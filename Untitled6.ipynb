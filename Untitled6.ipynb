{
  "nbformat": 4,
  "nbformat_minor": 0,
  "metadata": {
    "colab": {
      "name": "Untitled6.ipynb",
      "provenance": [],
      "collapsed_sections": [],
      "authorship_tag": "ABX9TyMdO+6U4+yB8+kZzukY3+aZ",
      "include_colab_link": true
    },
    "kernelspec": {
      "name": "python3",
      "display_name": "Python 3"
    },
    "language_info": {
      "name": "python"
    }
  },
  "cells": [
    {
      "cell_type": "markdown",
      "metadata": {
        "id": "view-in-github",
        "colab_type": "text"
      },
      "source": [
        "<a href=\"https://colab.research.google.com/github/enildsan/Practicas-Phyton/blob/main/Untitled6.ipynb\" target=\"_parent\"><img src=\"https://colab.research.google.com/assets/colab-badge.svg\" alt=\"Open In Colab\"/></a>"
      ]
    },
    {
      "cell_type": "code",
      "execution_count": 1,
      "metadata": {
        "id": "tpG9ojtHL_Tz"
      },
      "outputs": [],
      "source": [
        "estudante= {\"nome\": \"joão\",\n",
        "            \"idade\":12,\n",
        "            \"Matricula\":\"ABC123\"\n",
        "            }"
      ]
    },
    {
      "cell_type": "code",
      "source": [
        "print (estudante[\"nome\"]) #ACCESAR AO ELEMENTO\n"
      ],
      "metadata": {
        "colab": {
          "base_uri": "https://localhost:8080/"
        },
        "id": "2CT27YWXMi4b",
        "outputId": "164e6b01-ac17-4a40-e5fa-06dfe2d74c5f"
      },
      "execution_count": 4,
      "outputs": [
        {
          "output_type": "stream",
          "name": "stdout",
          "text": [
            "joão\n"
          ]
        }
      ]
    },
    {
      "cell_type": "code",
      "source": [
        "estudante[\"idade\"]"
      ],
      "metadata": {
        "colab": {
          "base_uri": "https://localhost:8080/"
        },
        "id": "PLfVWErtM7Uw",
        "outputId": "6eaf369d-2112-4081-b2f3-1d67c2a5ebcc"
      },
      "execution_count": 6,
      "outputs": [
        {
          "output_type": "execute_result",
          "data": {
            "text/plain": [
              "12"
            ]
          },
          "metadata": {},
          "execution_count": 6
        }
      ]
    },
    {
      "cell_type": "code",
      "source": [
        "estudante.keys()"
      ],
      "metadata": {
        "colab": {
          "base_uri": "https://localhost:8080/"
        },
        "id": "m62GiDqQY7Ys",
        "outputId": "78551de7-d7e2-4992-f4ac-a86c180bbe53"
      },
      "execution_count": 7,
      "outputs": [
        {
          "output_type": "execute_result",
          "data": {
            "text/plain": [
              "dict_keys(['nome', 'idade', 'Matricula'])"
            ]
          },
          "metadata": {},
          "execution_count": 7
        }
      ]
    },
    {
      "cell_type": "code",
      "source": [
        "estudante.values()"
      ],
      "metadata": {
        "colab": {
          "base_uri": "https://localhost:8080/"
        },
        "id": "cW3bcn7vZA9H",
        "outputId": "1378225b-98e8-44f5-c630-efed2aa9cc8d"
      },
      "execution_count": 11,
      "outputs": [
        {
          "output_type": "execute_result",
          "data": {
            "text/plain": [
              "dict_values(['joão', 'ABC123', '2010-02-02'])"
            ]
          },
          "metadata": {},
          "execution_count": 11
        }
      ]
    },
    {
      "cell_type": "code",
      "source": [
        ""
      ],
      "metadata": {
        "id": "aX3_n_rFe-Xu"
      },
      "execution_count": null,
      "outputs": []
    },
    {
      "cell_type": "code",
      "source": [
        "del estudante[\"idade\"]"
      ],
      "metadata": {
        "id": "KJQYiw9gZGvW"
      },
      "execution_count": 9,
      "outputs": []
    },
    {
      "cell_type": "code",
      "source": [
        "estudante[\"nascimento\"]= \"2010-02-02\""
      ],
      "metadata": {
        "id": "94NINJfUZMhI"
      },
      "execution_count": 10,
      "outputs": []
    },
    {
      "cell_type": "code",
      "source": [
        "print(estudante)"
      ],
      "metadata": {
        "colab": {
          "base_uri": "https://localhost:8080/"
        },
        "id": "ZCW0-0aYZaob",
        "outputId": "5ac52cc6-0275-4531-b743-c8a9bf11f133"
      },
      "execution_count": 12,
      "outputs": [
        {
          "output_type": "stream",
          "name": "stdout",
          "text": [
            "{'nome': 'joão', 'Matricula': 'ABC123', 'nascimento': '2010-02-02'}\n"
          ]
        }
      ]
    },
    {
      "cell_type": "code",
      "source": [
        "for c in estudante:\n",
        "  print(c)"
      ],
      "metadata": {
        "colab": {
          "base_uri": "https://localhost:8080/"
        },
        "id": "tjTwnLGMaxXe",
        "outputId": "4de90d1c-2d50-42c9-9e39-636bd369f17e"
      },
      "execution_count": 13,
      "outputs": [
        {
          "output_type": "stream",
          "name": "stdout",
          "text": [
            "nome\n",
            "Matricula\n",
            "nascimento\n"
          ]
        }
      ]
    },
    {
      "cell_type": "code",
      "source": [
        "for chave, valor in estudante.items():\n",
        "  print(chave, '-', valor)"
      ],
      "metadata": {
        "colab": {
          "base_uri": "https://localhost:8080/"
        },
        "id": "j6TX_zRdcG4Y",
        "outputId": "bbd1fa31-ce51-43cd-dcd5-bb1928be1476"
      },
      "execution_count": 16,
      "outputs": [
        {
          "output_type": "stream",
          "name": "stdout",
          "text": [
            "nome - joão Silva\n",
            "Matricula - ABC123\n",
            "nascimento - 2010-02-02\n"
          ]
        }
      ]
    },
    {
      "cell_type": "code",
      "source": [
        "estudante[\"nome\"]=\"joão Silva\""
      ],
      "metadata": {
        "id": "nGBnASQbcgRt"
      },
      "execution_count": 15,
      "outputs": []
    },
    {
      "cell_type": "code",
      "source": [
        "estudante.items()"
      ],
      "metadata": {
        "colab": {
          "base_uri": "https://localhost:8080/"
        },
        "id": "hJVpkNvVdU8l",
        "outputId": "0405d1e1-62ca-4494-cc0d-8c7d5b61a467"
      },
      "execution_count": 17,
      "outputs": [
        {
          "output_type": "execute_result",
          "data": {
            "text/plain": [
              "dict_items([('nome', 'joão Silva'), ('Matricula', 'ABC123'), ('nascimento', '2010-02-02')])"
            ]
          },
          "metadata": {},
          "execution_count": 17
        }
      ]
    }
  ]
}