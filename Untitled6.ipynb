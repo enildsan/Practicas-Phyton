{
  "nbformat": 4,
  "nbformat_minor": 0,
  "metadata": {
    "colab": {
      "name": "Untitled6.ipynb",
      "provenance": [],
      "collapsed_sections": [],
      "authorship_tag": "ABX9TyOcJ/Yo2UtJnwnu8BtbGjGS",
      "include_colab_link": true
    },
    "kernelspec": {
      "name": "python3",
      "display_name": "Python 3"
    },
    "language_info": {
      "name": "python"
    }
  },
  "cells": [
    {
      "cell_type": "markdown",
      "metadata": {
        "id": "view-in-github",
        "colab_type": "text"
      },
      "source": [
        "<a href=\"https://colab.research.google.com/github/enildsan/Practicas-Phyton/blob/main/Untitled6.ipynb\" target=\"_parent\"><img src=\"https://colab.research.google.com/assets/colab-badge.svg\" alt=\"Open In Colab\"/></a>"
      ]
    },
    {
      "cell_type": "code",
      "source": [
        "#DEFINIÇÃO DE CODIGO NA CRIAÇÃO DE UMA INSTANCIA\n",
        "class Cachorro:\n",
        "  tipo= 'canino'\n",
        "\n",
        "  def __init__(self,nome):\n",
        "    self.nome = nome\n",
        "\n",
        "r= Cachorro('Rex')\n",
        "z= Cachorro('Zeus')\n",
        "\n",
        "r.nome,z.nome\n",
        "r.tipo,z.tipo"
      ],
      "metadata": {
        "colab": {
          "base_uri": "https://localhost:8080/"
        },
        "id": "VQ5UFYtCoG6o",
        "outputId": "b21873e3-379a-45dc-f978-55deab2eb7e1"
      },
      "execution_count": 4,
      "outputs": [
        {
          "output_type": "execute_result",
          "data": {
            "text/plain": [
              "('canino', 'canino')"
            ]
          },
          "metadata": {},
          "execution_count": 4
        }
      ]
    },
    {
      "cell_type": "code",
      "source": [
        "isinstance(r,Cachorro)"
      ],
      "metadata": {
        "colab": {
          "base_uri": "https://localhost:8080/"
        },
        "id": "4-kM3LQfrMH3",
        "outputId": "1d627dfc-64d5-4048-bbaf-3c7103413ac3"
      },
      "execution_count": 3,
      "outputs": [
        {
          "output_type": "execute_result",
          "data": {
            "text/plain": [
              "True"
            ]
          },
          "metadata": {},
          "execution_count": 3
        }
      ]
    }
  ]
}